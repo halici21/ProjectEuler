{
  "nbformat": 4,
  "nbformat_minor": 0,
  "metadata": {
    "colab": {
      "provenance": [],
      "authorship_tag": "ABX9TyN2z8kX6VilVWFaerm1hypj",
      "include_colab_link": true
    },
    "kernelspec": {
      "name": "python3",
      "display_name": "Python 3"
    },
    "language_info": {
      "name": "python"
    }
  },
  "cells": [
    {
      "cell_type": "markdown",
      "metadata": {
        "id": "view-in-github",
        "colab_type": "text"
      },
      "source": [
        "<a href=\"https://colab.research.google.com/github/halici21/ProjectEuler/blob/main/problem7.ipynb\" target=\"_parent\"><img src=\"https://colab.research.google.com/assets/colab-badge.svg\" alt=\"Open In Colab\"/></a>"
      ]
    },
    {
      "cell_type": "code",
      "execution_count": null,
      "metadata": {
        "id": "prjeEO5nnfEC"
      },
      "outputs": [],
      "source": [
        "#problem 7 => 10001. asal sayi ne"
      ]
    },
    {
      "cell_type": "code",
      "source": [
        "sayi_1=2\n",
        "prime = True\n",
        "asal_list = []\n",
        "while prime:\n",
        "  asallik = True\n",
        "  for i in range(2, int(sayi_1**0.5)+1):\n",
        "    if sayi_1 % i == 0:\n",
        "      asallik = False\n",
        "  if asallik==True:\n",
        "    asal_list.append(sayi_1)\n",
        "  if len(asal_list)>=10001:\n",
        "    prime =False\n",
        "  sayi_1 +=1\n",
        "\n",
        "print(asal_list[10000])\n",
        "\n"
      ],
      "metadata": {
        "colab": {
          "base_uri": "https://localhost:8080/"
        },
        "id": "AI8uJJNRnnZH",
        "outputId": "0eb69f39-73fe-4aec-f6a5-9d87913384af"
      },
      "execution_count": null,
      "outputs": [
        {
          "output_type": "stream",
          "name": "stdout",
          "text": [
            "104743\n"
          ]
        }
      ]
    }
  ]
}