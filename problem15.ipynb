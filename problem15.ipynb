{
  "nbformat": 4,
  "nbformat_minor": 0,
  "metadata": {
    "colab": {
      "provenance": [],
      "authorship_tag": "ABX9TyPU58HYIRFisOT6c2WWBqZF",
      "include_colab_link": true
    },
    "kernelspec": {
      "name": "python3",
      "display_name": "Python 3"
    },
    "language_info": {
      "name": "python"
    }
  },
  "cells": [
    {
      "cell_type": "markdown",
      "metadata": {
        "id": "view-in-github",
        "colab_type": "text"
      },
      "source": [
        "<a href=\"https://colab.research.google.com/github/halici21/ProjectEuler/blob/main/problem15.ipynb\" target=\"_parent\"><img src=\"https://colab.research.google.com/assets/colab-badge.svg\" alt=\"Open In Colab\"/></a>"
      ]
    },
    {
      "cell_type": "code",
      "execution_count": null,
      "metadata": {
        "id": "XyF7DuuogSk_"
      },
      "outputs": [],
      "source": [
        "#problem15"
      ]
    },
    {
      "cell_type": "code",
      "source": [
        "# 2x2 karede sadece sag ve asagi gidiceksin\n",
        "# toplam alti yol\n",
        "\n",
        "\n",
        "###  0--1--1 a[0][0]=0  a[0][1]=1  a[0][2]=1\n",
        "###  |  |  |\n",
        "###  1--2--3 a[1][0]=1  a[1][1]    a[1][2]\n",
        "###  |  |  |\n",
        "###  1--3--6 a[2][0]=1  a[2][1]    a[2][2]\n",
        "\n",
        "#a[1][1] = a[1][0] + a[0][1]\n",
        "#a[1][2] = a[1][1] + a[0][2]\n",
        "#a[2][1] = a[2][0] + a[1][1]\n",
        "#a[2][2] = a[2][1] + a[1][2]\n",
        "\n",
        "#liste = [[0,1,1],[1,0,0],[1,0,0]]\n",
        "\n",
        "# for k in range(0,21):\n",
        "#   for j in range(0,21):\n",
        "#     if k == 0 :\n",
        "#       liste[k].append(1)\n",
        "#       continue\n",
        "#     else:\n",
        "#       if j==0:\n",
        "#        liste[k].append(1)\n",
        "#        continue\n",
        "#       else:\n",
        "#        liste[k].append(0)\n",
        "\n",
        "\n",
        "liste = []\n",
        "for k in range(0,21):\n",
        "  liste.append([])\n",
        "  for j in range(0,21):\n",
        "      liste[k].append(1)\n",
        "\n",
        "for i in range(1,21):\n",
        " for j in range(1,21):\n",
        "     liste[i][j] = liste[i][j-1] + liste[i-1][j]\n",
        "     #print(1)\n",
        "\n",
        "# for a in range(0,3):\n",
        "#   print(liste[a])\n",
        "\n",
        "print(liste[20][20])"
      ],
      "metadata": {
        "colab": {
          "base_uri": "https://localhost:8080/"
        },
        "id": "K1bc-QOggYUx",
        "outputId": "74b1e89f-00fb-43c8-9eb2-9ddeccc6f885"
      },
      "execution_count": 39,
      "outputs": [
        {
          "output_type": "stream",
          "name": "stdout",
          "text": [
            "137846528820\n"
          ]
        }
      ]
    }
  ]
}