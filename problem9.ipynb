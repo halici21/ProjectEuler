{
  "nbformat": 4,
  "nbformat_minor": 0,
  "metadata": {
    "colab": {
      "provenance": [],
      "authorship_tag": "ABX9TyNSBuZqj005V62V5DYx8dia",
      "include_colab_link": true
    },
    "kernelspec": {
      "name": "python3",
      "display_name": "Python 3"
    },
    "language_info": {
      "name": "python"
    }
  },
  "cells": [
    {
      "cell_type": "markdown",
      "metadata": {
        "id": "view-in-github",
        "colab_type": "text"
      },
      "source": [
        "<a href=\"https://colab.research.google.com/github/halici21/ProjectEuler/blob/main/problem9.ipynb\" target=\"_parent\"><img src=\"https://colab.research.google.com/assets/colab-badge.svg\" alt=\"Open In Colab\"/></a>"
      ]
    },
    {
      "cell_type": "code",
      "execution_count": null,
      "metadata": {
        "id": "GN6F_jtNu4XM"
      },
      "outputs": [],
      "source": [
        "#problem 9\n",
        "#a<b<c => a**2 + b**2 = c**2\n",
        "# a + b + c = 1000\n",
        "# abc = ?\n"
      ]
    },
    {
      "cell_type": "code",
      "source": [
        "\n",
        "#ornek 5 12 13 toplam = 30\n",
        "\n",
        "# a = 3\n",
        "# b = 4\n",
        "# c = (a**2+b**2)**0.5\n",
        "# if c == int(c):\n",
        "#   print(c)\n",
        "# else:\n",
        "#   print(a)\n",
        "\n",
        "a = 1\n",
        "b = 2\n",
        "\n",
        "#a<b\n",
        "\n",
        "while a<1000:\n",
        "  prime = True\n",
        "  while(a<b):\n",
        "    c = 1000-a-b\n",
        "    #print(a,b,c)\n",
        "    if(a**2 + b**2 == c**2):\n",
        "      print(a,b)\n",
        "      print(a*b*c)\n",
        "      prime = False\n",
        "    a+=1\n",
        "\n",
        "  if prime == False:\n",
        "    break\n",
        "\n",
        "  a = 1\n",
        "  b += 1\n",
        "\n",
        "\n",
        "\n",
        "# for ile yapimi\n",
        "\n",
        "# for a in range(1, 1000):\n",
        "#   for b in range(1,1000-a):\n",
        "#     c = 1000 - a - b\n",
        "#     if a**2 + b**2 == c**2 and a<b:\n",
        "#       print(a,b)\n",
        "#       break\n",
        "\n",
        "\n",
        "\n",
        "\n",
        "\n",
        "\n",
        "\n",
        "\n",
        "\n",
        "\n",
        "\n",
        "\n",
        "\n",
        "\n",
        "\n",
        "\n",
        "\n",
        "\n"
      ],
      "metadata": {
        "colab": {
          "base_uri": "https://localhost:8080/"
        },
        "id": "ybmqrCy_u7DQ",
        "outputId": "3b77e421-3c29-4848-97c3-68fa86eb129f"
      },
      "execution_count": null,
      "outputs": [
        {
          "output_type": "stream",
          "name": "stdout",
          "text": [
            "200 375\n",
            "31875000\n"
          ]
        }
      ]
    }
  ]
}