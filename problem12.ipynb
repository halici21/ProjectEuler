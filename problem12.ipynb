{
  "nbformat": 4,
  "nbformat_minor": 0,
  "metadata": {
    "colab": {
      "provenance": [],
      "authorship_tag": "ABX9TyNQbKXGEZipTyA0CSe4UZAQ",
      "include_colab_link": true
    },
    "kernelspec": {
      "name": "python3",
      "display_name": "Python 3"
    },
    "language_info": {
      "name": "python"
    }
  },
  "cells": [
    {
      "cell_type": "markdown",
      "metadata": {
        "id": "view-in-github",
        "colab_type": "text"
      },
      "source": [
        "<a href=\"https://colab.research.google.com/github/halici21/ProjectEuler/blob/main/problem12.ipynb\" target=\"_parent\"><img src=\"https://colab.research.google.com/assets/colab-badge.svg\" alt=\"Open In Colab\"/></a>"
      ]
    },
    {
      "cell_type": "code",
      "execution_count": null,
      "metadata": {
        "id": "puw2jd6Z6kEy"
      },
      "outputs": [],
      "source": [
        "#problem12\n",
        "#triangle numbers"
      ]
    },
    {
      "cell_type": "code",
      "source": [
        "triangle_numbers = []\n",
        "\n",
        "# 1\n",
        "# 3 = 1 + 2\n",
        "# 6 = 1 + 2 + 3\n",
        "sum = 0\n",
        "\n",
        "bolen_listesi = []\n",
        "def bolen_hesapla(sayi_2):\n",
        " bolen_sayisi = 0\n",
        " for k in range(1,int(sayi_2**0.5)+1):\n",
        "  if sayi_2 % k == 0:\n",
        "    bolen_sayisi += 1\n",
        "    if k !=int(sayi_2/k):\n",
        "      bolen_sayisi += 1\n",
        " return bolen_sayisi\n",
        "\n",
        "for a in range(1,10000000):\n",
        "  sum = 0\n",
        "  for k in range(1,a+1):\n",
        "    sum = sum + k\n",
        "  triangle_numbers.append(sum)\n",
        "  if(bolen_hesapla(sum)>500):\n",
        "    print(sum)\n",
        "    break\n",
        "\n",
        "\n",
        "\n",
        "\n"
      ],
      "metadata": {
        "colab": {
          "base_uri": "https://localhost:8080/"
        },
        "id": "WF17k09V6zO9",
        "outputId": "64c55b7e-02ff-4d58-9991-ca0029f68424"
      },
      "execution_count": 20,
      "outputs": [
        {
          "output_type": "stream",
          "name": "stdout",
          "text": [
            "76576500\n"
          ]
        }
      ]
    }
  ]
}