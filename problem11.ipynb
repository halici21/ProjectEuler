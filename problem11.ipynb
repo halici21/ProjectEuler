{
  "nbformat": 4,
  "nbformat_minor": 0,
  "metadata": {
    "colab": {
      "provenance": [],
      "authorship_tag": "ABX9TyMwG2r02QH1PSRd9aMGDddq",
      "include_colab_link": true
    },
    "kernelspec": {
      "name": "python3",
      "display_name": "Python 3"
    },
    "language_info": {
      "name": "python"
    }
  },
  "cells": [
    {
      "cell_type": "markdown",
      "metadata": {
        "id": "view-in-github",
        "colab_type": "text"
      },
      "source": [
        "<a href=\"https://colab.research.google.com/github/halici21/ProjectEuler/blob/main/problem11.ipynb\" target=\"_parent\"><img src=\"https://colab.research.google.com/assets/colab-badge.svg\" alt=\"Open In Colab\"/></a>"
      ]
    },
    {
      "cell_type": "code",
      "execution_count": null,
      "metadata": {
        "id": "AeB3suDU4oP1"
      },
      "outputs": [],
      "source": [
        "#problem11\n",
        "# 2 milyonun asagisindaki asal sayilari topla"
      ]
    },
    {
      "cell_type": "code",
      "source": [
        "sayi_1=2\n",
        "prime = True\n",
        "asal_sayi = []\n",
        "while prime:\n",
        "  asallik = True\n",
        "  for a in range(2, int(sayi_1**0.5)+1):\n",
        "    if sayi_1 % a == 0:\n",
        "      asallik = False\n",
        "      break\n",
        "  if sayi_1>=2000000:\n",
        "    prime= False\n",
        "\n",
        "  if asallik:\n",
        "    asal_sayi.append(sayi_1)\n",
        "\n",
        "  sayi_1 +=1\n",
        "\n",
        "print(sum(asal_sayi))\n"
      ],
      "metadata": {
        "colab": {
          "base_uri": "https://localhost:8080/"
        },
        "id": "0EGRGVgf42mf",
        "outputId": "ad7cef69-d926-4be8-cc73-23278223aebf"
      },
      "execution_count": null,
      "outputs": [
        {
          "output_type": "stream",
          "name": "stdout",
          "text": [
            "142913828922\n"
          ]
        }
      ]
    }
  ]
}