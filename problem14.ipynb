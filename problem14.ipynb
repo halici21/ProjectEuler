{
  "nbformat": 4,
  "nbformat_minor": 0,
  "metadata": {
    "colab": {
      "provenance": [],
      "authorship_tag": "ABX9TyMG/+93gqkBoYdvMZy7K+7f",
      "include_colab_link": true
    },
    "kernelspec": {
      "name": "python3",
      "display_name": "Python 3"
    },
    "language_info": {
      "name": "python"
    }
  },
  "cells": [
    {
      "cell_type": "markdown",
      "metadata": {
        "id": "view-in-github",
        "colab_type": "text"
      },
      "source": [
        "<a href=\"https://colab.research.google.com/github/halici21/ProjectEuler/blob/main/problem14.ipynb\" target=\"_parent\"><img src=\"https://colab.research.google.com/assets/colab-badge.svg\" alt=\"Open In Colab\"/></a>"
      ]
    },
    {
      "cell_type": "code",
      "execution_count": null,
      "metadata": {
        "id": "kAZOBqw8HnNz"
      },
      "outputs": [],
      "source": [
        "#problem14\n",
        "#n -> n/2 ciftse\n",
        "#n -> 3*n +1 tekse"
      ]
    },
    {
      "cell_type": "code",
      "source": [
        "\n",
        "liste = dict()\n",
        "def islem_sayisi(a,liste):\n",
        "  sayi = a\n",
        "  islem = 0\n",
        "  while a != 1:\n",
        "   if a in liste:\n",
        "    islem = islem + liste[a]\n",
        "    break\n",
        "   if a % 2 == 0:\n",
        "     a = a/2\n",
        "     islem +=1\n",
        "   else:\n",
        "     a = 3*a + 1\n",
        "     islem +=1\n",
        "   liste[sayi] = islem\n",
        "  return islem\n",
        "\n",
        "enbuyuk = 1\n",
        "istenilen = 1\n",
        "\n",
        "for a in range(1, 1000000):\n",
        "   m = islem_sayisi(a,liste)\n",
        "   if m>enbuyuk:\n",
        "    enbuyuk = m\n",
        "    istenilen = a\n",
        "\n",
        "\n",
        "print(istenilen)\n",
        "\n",
        "\n"
      ],
      "metadata": {
        "colab": {
          "base_uri": "https://localhost:8080/"
        },
        "id": "uHBbRmrJHpON",
        "outputId": "b9a60720-f8a5-4f61-9162-c9b06c2a776e"
      },
      "execution_count": null,
      "outputs": [
        {
          "output_type": "stream",
          "name": "stdout",
          "text": [
            "837799\n"
          ]
        }
      ]
    }
  ]
}